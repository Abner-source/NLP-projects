{
 "cells": [
  {
   "cell_type": "code",
   "execution_count": 5,
   "metadata": {},
   "outputs": [
    {
     "name": "stdout",
     "output_type": "stream",
     "text": [
      "   vhigh vhigh.1  2 2.1  small   low  unacc\n",
      "0  vhigh   vhigh  2   2  small   med  unacc\n",
      "1  vhigh   vhigh  2   2  small  high  unacc\n",
      "2  vhigh   vhigh  2   2    med   low  unacc\n",
      "3  vhigh   vhigh  2   2    med   med  unacc\n",
      "4  vhigh   vhigh  2   2    med  high  unacc\n",
      "vhigh      object\n",
      "vhigh.1    object\n",
      "2          object\n",
      "2.1        object\n",
      "small      object\n",
      "low        object\n",
      "unacc      object\n",
      "dtype: object\n"
     ]
    },
    {
     "data": {
      "text/plain": [
       "Index(['vhigh', 'vhigh.1', '2', '2.1', 'small', 'low', 'unacc'], dtype='object')"
      ]
     },
     "execution_count": 5,
     "metadata": {},
     "output_type": "execute_result"
    }
   ],
   "source": [
    "import pandas as pd\n",
    "data=pd.read_csv('car_evaluation.csv')\n",
    "print(data.head())\n",
    "print(data.dtypes)\n",
    "data.columns"
   ]
  },
  {
   "cell_type": "code",
   "execution_count": 19,
   "metadata": {},
   "outputs": [
    {
     "name": "stdout",
     "output_type": "stream",
     "text": [
      "buying_high_False_False_False    bool\n",
      "buying_high_False_False_True     bool\n",
      "buying_high_False_True_False     bool\n",
      "buying_high_False_True_True      bool\n",
      "buying_high_True_False_False     bool\n",
      "                                 ... \n",
      "class_vgood_True_False_False     bool\n",
      "class_vgood_True_False_True      bool\n",
      "class_vgood_True_True_False      bool\n",
      "class_vgood_True_True_True       bool\n",
      "target_class_acc                 bool\n",
      "Length: 201, dtype: object\n"
     ]
    }
   ],
   "source": [
    "data.columns\n",
    "data=pd.get_dummies(data, columns=data.columns)\n",
    "print(data.dtypes)"
   ]
  },
  {
   "cell_type": "code",
   "execution_count": 15,
   "metadata": {},
   "outputs": [
    {
     "data": {
      "text/plain": [
       "Index(['buying_high_False_False', 'buying_high_False_True',\n",
       "       'buying_high_True_False', 'buying_high_True_True',\n",
       "       'buying_low_False_False', 'buying_low_False_True',\n",
       "       'buying_low_True_False', 'buying_low_True_True',\n",
       "       'buying_med_False_False', 'buying_med_False_True',\n",
       "       'buying_med_True_False', 'buying_med_True_True',\n",
       "       'buying_vhigh_False_False', 'buying_vhigh_False_True',\n",
       "       'buying_vhigh_True_False', 'buying_vhigh_True_True',\n",
       "       'maint_high_False_False', 'maint_high_False_True',\n",
       "       'maint_high_True_False', 'maint_high_True_True',\n",
       "       'maint_low_False_False', 'maint_low_False_True', 'maint_low_True_False',\n",
       "       'maint_low_True_True', 'maint_med_False_False', 'maint_med_False_True',\n",
       "       'maint_med_True_False', 'maint_med_True_True',\n",
       "       'maint_vhigh_False_False', 'maint_vhigh_False_True',\n",
       "       'maint_vhigh_True_False', 'maint_vhigh_True_True',\n",
       "       'doors_2_False_False', 'doors_2_False_True', 'doors_2_True_False',\n",
       "       'doors_2_True_True', 'doors_3_False_False', 'doors_3_False_True',\n",
       "       'doors_3_True_False', 'doors_3_True_True', 'doors_4_False_False',\n",
       "       'doors_4_False_True', 'doors_4_True_False', 'doors_4_True_True',\n",
       "       'doors_5more_False_False', 'doors_5more_False_True',\n",
       "       'doors_5more_True_False', 'doors_5more_True_True',\n",
       "       'persons_2_False_False', 'persons_2_False_True', 'persons_2_True_False',\n",
       "       'persons_2_True_True', 'persons_4_False_False', 'persons_4_False_True',\n",
       "       'persons_4_True_False', 'persons_4_True_True',\n",
       "       'persons_more_False_False', 'persons_more_False_True',\n",
       "       'persons_more_True_False', 'persons_more_True_True',\n",
       "       'lug_boot_big_False_False', 'lug_boot_big_False_True',\n",
       "       'lug_boot_big_True_False', 'lug_boot_big_True_True',\n",
       "       'lug_boot_med_False_False', 'lug_boot_med_False_True',\n",
       "       'lug_boot_med_True_False', 'lug_boot_med_True_True',\n",
       "       'lug_boot_small_False_False', 'lug_boot_small_False_True',\n",
       "       'lug_boot_small_True_False', 'lug_boot_small_True_True',\n",
       "       'safety_high_False_False', 'safety_high_False_True',\n",
       "       'safety_high_True_False', 'safety_high_True_True',\n",
       "       'safety_low_False_False', 'safety_low_False_True',\n",
       "       'safety_low_True_False', 'safety_low_True_True',\n",
       "       'safety_med_False_False', 'safety_med_False_True',\n",
       "       'safety_med_True_False', 'safety_med_True_True',\n",
       "       'class_acc_False_False', 'class_acc_False_True', 'class_acc_True_False',\n",
       "       'class_acc_True_True', 'class_good_False_False',\n",
       "       'class_good_False_True', 'class_good_True_False',\n",
       "       'class_good_True_True', 'class_unacc_False_False',\n",
       "       'class_unacc_False_True', 'class_unacc_True_False',\n",
       "       'class_unacc_True_True', 'class_vgood_False_False',\n",
       "       'class_vgood_False_True', 'class_vgood_True_False',\n",
       "       'class_vgood_True_True'],\n",
       "      dtype='object')"
      ]
     },
     "execution_count": 15,
     "metadata": {},
     "output_type": "execute_result"
    }
   ],
   "source": [
    "data.columns"
   ]
  },
  {
   "cell_type": "code",
   "execution_count": 20,
   "metadata": {},
   "outputs": [
    {
     "name": "stdout",
     "output_type": "stream",
     "text": [
      "buying_high_False_False_False      bool\n",
      "buying_high_False_False_True       bool\n",
      "buying_high_False_True_False       bool\n",
      "buying_high_False_True_True        bool\n",
      "buying_high_True_False_False       bool\n",
      "                                  ...  \n",
      "class_vgood_True_False_True        bool\n",
      "class_vgood_True_True_False        bool\n",
      "class_vgood_True_True_True         bool\n",
      "target_class_acc                   bool\n",
      "target_class                     object\n",
      "Length: 202, dtype: object\n"
     ]
    },
    {
     "name": "stderr",
     "output_type": "stream",
     "text": [
      "C:\\Users\\Abner\\AppData\\Local\\Temp\\ipykernel_11840\\2873866613.py:2: PerformanceWarning: DataFrame is highly fragmented.  This is usually the result of calling `frame.insert` many times, which has poor performance.  Consider joining all columns at once using pd.concat(axis=1) instead. To get a de-fragmented frame, use `newframe = frame.copy()`\n",
      "  data['target_class']=data[class_columns].idxmax(axis=1).apply(lambda x: x.split('_')[1])\n"
     ]
    }
   ],
   "source": [
    "class_columns=[col for col in data.columns if col.startswith('class_')]\n",
    "data['target_class']=data[class_columns].idxmax(axis=1).apply(lambda x: x.split('_')[1])\n",
    "data.columns\n",
    "print(data.dtypes)"
   ]
  },
  {
   "cell_type": "code",
   "execution_count": 30,
   "metadata": {},
   "outputs": [
    {
     "name": "stdout",
     "output_type": "stream",
     "text": [
      "(1727, 201)\n",
      "(1727,)\n"
     ]
    },
    {
     "name": "stderr",
     "output_type": "stream",
     "text": [
      "C:\\Users\\Abner\\AppData\\Local\\Temp\\ipykernel_11840\\170670316.py:7: PerformanceWarning: DataFrame is highly fragmented.  This is usually the result of calling `frame.insert` many times, which has poor performance.  Consider joining all columns at once using pd.concat(axis=1) instead. To get a de-fragmented frame, use `newframe = frame.copy()`\n",
      "  data['targetclass_encoded']=label_encoder.fit_transform(data['target_class'])\n"
     ]
    }
   ],
   "source": [
    "from sklearn.model_selection import train_test_split\n",
    "from sklearn.tree import DecisionTreeClassifier\n",
    "from sklearn.metrics import accuracy_score\n",
    "from sklearn.preprocessing import LabelEncoder\n",
    "label_encoder=LabelEncoder()\n",
    "data['target_encoded']=label_encoder.fit_transform(data['target_class_acc'])\n",
    "data['targetclass_encoded']=label_encoder.fit_transform(data['target_class'])\n",
    "x=data.drop(columns=['target_class_acc','target_encoded','target_class'])\n",
    "y=data['target_encoded']\n",
    "print(x.shape)\n",
    "print(y.shape)"
   ]
  },
  {
   "cell_type": "code",
   "execution_count": 34,
   "metadata": {},
   "outputs": [
    {
     "name": "stdout",
     "output_type": "stream",
     "text": [
      "1.0\n"
     ]
    }
   ],
   "source": [
    "x_train,x_test,y_train,y_test=train_test_split(x,y, test_size=0.3, random_state=42)\n",
    "model=DecisionTreeClassifier()\n",
    "model.fit(x,y)\n",
    "y_pred=model.predict(x_test)\n",
    "accuracy=accuracy_score(y_test,y_pred)\n",
    "print(accuracy)"
   ]
  }
 ],
 "metadata": {
  "kernelspec": {
   "display_name": "Python 3",
   "language": "python",
   "name": "python3"
  },
  "language_info": {
   "codemirror_mode": {
    "name": "ipython",
    "version": 3
   },
   "file_extension": ".py",
   "mimetype": "text/x-python",
   "name": "python",
   "nbconvert_exporter": "python",
   "pygments_lexer": "ipython3",
   "version": "3.12.5"
  }
 },
 "nbformat": 4,
 "nbformat_minor": 2
}

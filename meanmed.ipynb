{
 "cells": [
  {
   "cell_type": "code",
   "execution_count": 2,
   "metadata": {},
   "outputs": [
    {
     "name": "stderr",
     "output_type": "stream",
     "text": [
      "C:\\Users\\Abner\\AppData\\Local\\Temp\\ipykernel_24736\\1853917817.py:2: DtypeWarning: Columns (0,4,5,6,7,8) have mixed types. Specify dtype option on import or set low_memory=False.\n",
      "  df=pd.read_csv('lois_continuous.csv')\n"
     ]
    },
    {
     "data": {
      "text/plain": [
       "<bound method NDFrame.head of        Unnamed: 0 Unnamed: 1                 Unnamed: 2        Unnamed: 3  \\\n",
       "0             FID         ID                  SITE_NAME              DATE   \n",
       "1           29033         S1  Swale at Catterick Bridge  27/06/1995 11:00   \n",
       "2           29033         S1  Swale at Catterick Bridge  27/06/1995 11:30   \n",
       "3           29033         S1  Swale at Catterick Bridge  27/06/1995 12:00   \n",
       "4           29033         S1  Swale at Catterick Bridge  27/06/1995 12:30   \n",
       "...           ...        ...                        ...               ...   \n",
       "235116    1584377        N33         Nidd at Hunsingore  07/07/1994 13:00   \n",
       "235117    1584377        N33         Nidd at Hunsingore  07/07/1994 13:30   \n",
       "235118    1584377        N33         Nidd at Hunsingore  07/07/1994 14:00   \n",
       "235119    1584377        N33         Nidd at Hunsingore  07/07/1994 14:30   \n",
       "235120    1584377        N33         Nidd at Hunsingore  07/07/1994 15:00   \n",
       "\n",
       "          pH continuous Conductivity 25C continuous  \\\n",
       "0       0475 (pH units)                0473 (uS/cm)   \n",
       "1                  8.27                         411   \n",
       "2                  8.31                         412   \n",
       "3                  8.34                         413   \n",
       "4                  8.36                         414   \n",
       "...                 ...                         ...   \n",
       "235116             7.68                       404.0   \n",
       "235117             7.67                       409.0   \n",
       "235118             7.67                       410.0   \n",
       "235119             7.65                       419.0   \n",
       "235120             7.67                       411.0   \n",
       "\n",
       "       Oxygen dissolved continuous Temperature water continuous     Unnamed: 8  \n",
       "0                    0474 (% satn)                   0476 (Cel)  Battery (vol)  \n",
       "1                            102.2                         16.8             13  \n",
       "2                            105.8                         17.2             13  \n",
       "3                              107                         17.5             13  \n",
       "4                            108.7                         17.9             13  \n",
       "...                            ...                          ...            ...  \n",
       "235116                        58.6                         17.1           12.4  \n",
       "235117                        58.5                         17.1           12.4  \n",
       "235118                        58.0                         17.2           12.4  \n",
       "235119                        58.9                         17.4           12.4  \n",
       "235120                        59.1                         17.3           12.4  \n",
       "\n",
       "[235121 rows x 9 columns]>"
      ]
     },
     "execution_count": 2,
     "metadata": {},
     "output_type": "execute_result"
    }
   ],
   "source": [
    "import pandas as pd \n",
    "df=pd.read_csv('lois_continuous.csv')\n",
    "df.head"
   ]
  },
  {
   "cell_type": "code",
   "execution_count": 3,
   "metadata": {},
   "outputs": [
    {
     "name": "stdout",
     "output_type": "stream",
     "text": [
      "Index(['Unnamed: 0', 'Unnamed: 1', 'Unnamed: 2', 'Unnamed: 3', 'pH continuous',\n",
      "       'Conductivity 25C continuous', 'Oxygen dissolved continuous',\n",
      "       'Temperature water continuous', 'Unnamed: 8'],\n",
      "      dtype='object')\n"
     ]
    }
   ],
   "source": [
    "print(df.columns)"
   ]
  },
  {
   "cell_type": "code",
   "execution_count": 15,
   "metadata": {},
   "outputs": [
    {
     "data": {
      "text/plain": [
       "<bound method NDFrame.head of       Unnamed: 0 Unnamed: 1                 Unnamed: 2        Unnamed: 3  \\\n",
       "1          29033         S1  Swale at Catterick Bridge  27/06/1995 11:00   \n",
       "2          29033         S1  Swale at Catterick Bridge  27/06/1995 11:30   \n",
       "3          29033         S1  Swale at Catterick Bridge  27/06/1995 12:00   \n",
       "4          29033         S1  Swale at Catterick Bridge  27/06/1995 12:30   \n",
       "5          29033         S1  Swale at Catterick Bridge  27/06/1995 13:00   \n",
       "...          ...        ...                        ...               ...   \n",
       "24487      29033         S1  Swale at Catterick Bridge  16/12/1996 08:30   \n",
       "24488      29033         S1  Swale at Catterick Bridge  16/12/1996 09:00   \n",
       "24489      29033         S1  Swale at Catterick Bridge  16/12/1996 09:30   \n",
       "24490      29033         S1  Swale at Catterick Bridge  16/12/1996 10:00   \n",
       "24491      29033         S1  Swale at Catterick Bridge  16/12/1996 10:30   \n",
       "\n",
       "      pH continuous Conductivity 25C continuous Oxygen dissolved continuous  \\\n",
       "1              8.27                         411                       102.2   \n",
       "2              8.31                         412                       105.8   \n",
       "3              8.34                         413                         107   \n",
       "4              8.36                         414                       108.7   \n",
       "5              8.39                         416                       110.2   \n",
       "...             ...                         ...                         ...   \n",
       "24487          7.98                         204                       100.3   \n",
       "24488             8                         205                       101.4   \n",
       "24489          8.02                         205                         101   \n",
       "24490          8.01                         207                       101.3   \n",
       "24491          7.99                         207                       104.1   \n",
       "\n",
       "      Temperature water continuous Unnamed: 8  \n",
       "1                             16.8         13  \n",
       "2                             17.2         13  \n",
       "3                             17.5         13  \n",
       "4                             17.9         13  \n",
       "5                             18.3         13  \n",
       "...                            ...        ...  \n",
       "24487                          4.9       12.9  \n",
       "24488                          4.9         13  \n",
       "24489                          4.9       12.9  \n",
       "24490                          4.9       12.9  \n",
       "24491                          4.9       12.8  \n",
       "\n",
       "[24491 rows x 9 columns]>"
      ]
     },
     "execution_count": 15,
     "metadata": {},
     "output_type": "execute_result"
    }
   ],
   "source": [
    "df_new=df[df['Unnamed: 1']=='S1']\n",
    "t=df_new['Temperature water continuous']\n",
    "o=df_new['Oxygen dissolved continuous']\n",
    "t.dtypes\n",
    "o.dtypes\n",
    "df_new.head"
   ]
  },
  {
   "cell_type": "code",
   "execution_count": 19,
   "metadata": {},
   "outputs": [
    {
     "name": "stdout",
     "output_type": "stream",
     "text": [
      "mean: 10.283320403413498\n"
     ]
    }
   ],
   "source": [
    "import statistics as st\n",
    "t=[float(x) for x in t]\n",
    "mean=st.mean(t)\n",
    "print(\"mean:\",mean)"
   ]
  },
  {
   "cell_type": "code",
   "execution_count": 22,
   "metadata": {},
   "outputs": [
    {
     "name": "stdout",
     "output_type": "stream",
     "text": [
      "median: 100.9\n"
     ]
    }
   ],
   "source": [
    "o=[float(x) for x in o]\n",
    "median=st.median(o)\n",
    "print('median:',median)"
   ]
  },
  {
   "cell_type": "code",
   "execution_count": 23,
   "metadata": {},
   "outputs": [
    {
     "data": {
      "text/plain": [
       "(array([2.643e+03, 4.528e+03, 3.460e+03, 4.157e+03, 3.910e+03, 3.363e+03,\n",
       "        1.959e+03, 4.540e+02, 1.300e+01, 4.000e+00]),\n",
       " array([-0.1 ,  2.95,  6.  ,  9.05, 12.1 , 15.15, 18.2 , 21.25, 24.3 ,\n",
       "        27.35, 30.4 ]),\n",
       " <BarContainer object of 10 artists>)"
      ]
     },
     "execution_count": 23,
     "metadata": {},
     "output_type": "execute_result"
    },
    {
     "data": {
      "image/png": "[encoded data removed]",
      "text/plain": [
       "<Figure size 640x480 with 1 Axes>"
      ]
     },
     "metadata": {},
     "output_type": "display_data"
    }
   ],
   "source": [
    "import matplotlib.pyplot as plt\n",
    "import numpy as np\n",
    "x=np.array(t)\n",
    "plt.hist(t)\n"
   ]
  },
  {
   "cell_type": "code",
   "execution_count": 25,
   "metadata": {},
   "outputs": [
    {
     "data": {
      "image/png": "[encoded data removed]",
      "text/plain": [
       "<Figure size 640x480 with 1 Axes>"
      ]
     },
     "metadata": {},
     "output_type": "display_data"
    }
   ],
   "source": [
    "plt.hist(t)\n",
    "plt.xlabel('distribution of temperature')\n",
    "plt.ylabel('Time period of study')\n",
    "plt.show()"
   ]
  }
 ],
 "metadata": {
  "kernelspec": {
   "display_name": "Python 3",
   "language": "python",
   "name": "python3"
  },
  "language_info": {
   "codemirror_mode": {
    "name": "ipython",
    "version": 3
   },
   "file_extension": ".py",
   "mimetype": "text/x-python",
   "name": "python",
   "nbconvert_exporter": "python",
   "pygments_lexer": "ipython3",
   "version": "3.12.5"
  }
 },
 "nbformat": 4,
 "nbformat_minor": 2
}

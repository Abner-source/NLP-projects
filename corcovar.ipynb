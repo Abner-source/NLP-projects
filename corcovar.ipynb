{
 "cells": [
  {
   "cell_type": "code",
   "execution_count": 3,
   "metadata": {},
   "outputs": [],
   "source": [
    "import pandas as pd\n",
    "data=pd.read_csv('processed_cleveland.csv')\n",
    "data.head()\n",
    "data_cleaned=data.dropna()"
   ]
  },
  {
   "cell_type": "code",
   "execution_count": 6,
   "metadata": {},
   "outputs": [
    {
     "name": "stdout",
     "output_type": "stream",
     "text": [
      "age           int64\n",
      "sex           int64\n",
      "cp            int64\n",
      "trestbps      int64\n",
      "chol          int64\n",
      "fbs           int64\n",
      "restecg       int64\n",
      "thalach       int64\n",
      "exang         int64\n",
      "oldpeak     float64\n",
      "slope         int64\n",
      "ca           object\n",
      "thal         object\n",
      "num           int64\n",
      "dtype: object\n"
     ]
    }
   ],
   "source": [
    "print(data.dtypes)"
   ]
  },
  {
   "cell_type": "code",
   "execution_count": 9,
   "metadata": {},
   "outputs": [
    {
     "name": "stdout",
     "output_type": "stream",
     "text": [
      "Index(['age', 'sex', 'cp', 'trestbps', 'chol', 'fbs', 'restecg', 'thalach',\n",
      "       'exang', 'oldpeak', 'slope', 'thal', 'num', 'ca_0', 'ca_1', 'ca_2',\n",
      "       'ca_3', 'ca_?'],\n",
      "      dtype='object')\n"
     ]
    }
   ],
   "source": [
    "print(data.columns)"
   ]
  },
  {
   "cell_type": "code",
   "execution_count": 15,
   "metadata": {},
   "outputs": [
    {
     "name": "stdout",
     "output_type": "stream",
     "text": [
      "age          int64\n",
      "sex          int64\n",
      "cp           int64\n",
      "trestbps     int64\n",
      "chol         int64\n",
      "             ...  \n",
      "ca_?_True     bool\n",
      "thal_3        bool\n",
      "thal_6        bool\n",
      "thal_7        bool\n",
      "thal_?        bool\n",
      "Length: 116, dtype: object\n"
     ]
    }
   ],
   "source": [
    "categorical_columns=['ca_1','ca_2','ca_3','ca_?','thal']\n",
    "data=pd.get_dummies(data, columns=categorical_columns)\n",
    "print(data.dtypes)"
   ]
  },
  {
   "cell_type": "code",
   "execution_count": 16,
   "metadata": {},
   "outputs": [
    {
     "name": "stdout",
     "output_type": "stream",
     "text": [
      "                age       sex        cp  trestbps      chol       fbs  \\\n",
      "age        1.000000 -0.097542  0.104139  0.284946  0.208950  0.118530   \n",
      "sex       -0.097542  1.000000  0.010084 -0.064456 -0.199915  0.047862   \n",
      "cp         0.104139  0.010084  1.000000 -0.036077  0.072319 -0.039975   \n",
      "trestbps   0.284946 -0.064456 -0.036077  1.000000  0.130120  0.175340   \n",
      "chol       0.208950 -0.199915  0.072319  0.130120  1.000000  0.009841   \n",
      "...             ...       ...       ...       ...       ...       ...   \n",
      "ca_?_True -0.085736  0.079368 -0.019115  0.010271 -0.068118  0.033008   \n",
      "thal_3    -0.129234 -0.381754 -0.264936 -0.136807  0.002944 -0.086774   \n",
      "thal_6     0.062042  0.142524  0.045860  0.075157 -0.095743  0.091351   \n",
      "thal_7     0.104902  0.326284  0.243738  0.106210  0.053100  0.030953   \n",
      "thal_?    -0.017515 -0.031427  0.029048 -0.017118 -0.057863  0.080568   \n",
      "\n",
      "            restecg     exang   oldpeak     slope  ...  ca_2_False  ca_2_True  \\\n",
      "age        0.148868  0.091661  0.203805  0.161770  ...   -0.224533   0.224533   \n",
      "sex        0.021647  0.146201  0.102173  0.037533  ...    0.017836  -0.017836   \n",
      "cp         0.067505  0.384060  0.202277  0.152050  ...   -0.124549   0.124549   \n",
      "trestbps   0.146560  0.064762  0.189171  0.117382  ...   -0.086654   0.086654   \n",
      "chol       0.171043  0.061310  0.046564 -0.004062  ...   -0.056806   0.056806   \n",
      "...             ...       ...       ...       ...  ...         ...        ...   \n",
      "ca_?_True -0.057067 -0.018923 -0.091261 -0.018925  ...    0.043799  -0.043799   \n",
      "thal_3    -0.029082 -0.328539 -0.339086 -0.298671  ...    0.136522  -0.136522   \n",
      "thal_6     0.044672  0.063073  0.104635  0.185825  ...   -0.073462   0.073462   \n",
      "thal_7     0.007905  0.300223  0.302145  0.217318  ...   -0.109028   0.109028   \n",
      "thal_?     0.000812  0.030113 -0.037946 -0.013337  ...    0.030867  -0.030867   \n",
      "\n",
      "           ca_3_False  ca_3_True  ca_?_False  ca_?_True    thal_3    thal_6  \\\n",
      "age         -0.160884   0.160884    0.085736  -0.085736 -0.129234  0.062042   \n",
      "sex         -0.068455   0.068455   -0.079368   0.079368 -0.381754  0.142524   \n",
      "cp          -0.136336   0.136336    0.019115  -0.019115 -0.264936  0.045860   \n",
      "trestbps    -0.078830   0.078830   -0.010271   0.010271 -0.136807  0.075157   \n",
      "chol        -0.096464   0.096464    0.068118  -0.068118  0.002944 -0.095743   \n",
      "...               ...        ...         ...        ...       ...       ...   \n",
      "ca_?_True    0.030748  -0.030748   -1.000000   1.000000 -0.011121 -0.029068   \n",
      "thal_3       0.132388  -0.132388    0.011121  -0.011121  1.000000 -0.276635   \n",
      "thal_6      -0.045653   0.045653    0.029068  -0.029068 -0.276635  1.000000   \n",
      "thal_7      -0.116774   0.116774   -0.027050   0.027050 -0.873032 -0.199320   \n",
      "thal_?       0.021670  -0.021670    0.009428  -0.009428 -0.089727 -0.020485   \n",
      "\n",
      "             thal_7    thal_?  \n",
      "age        0.104902 -0.017515  \n",
      "sex        0.326284 -0.031427  \n",
      "cp         0.243738  0.029048  \n",
      "trestbps   0.106210 -0.017118  \n",
      "chol       0.053100 -0.057863  \n",
      "...             ...       ...  \n",
      "ca_?_True  0.027050 -0.009428  \n",
      "thal_3    -0.873032 -0.089727  \n",
      "thal_6    -0.199320 -0.020485  \n",
      "thal_7     1.000000 -0.064650  \n",
      "thal_?    -0.064650  1.000000  \n",
      "\n",
      "[116 rows x 116 columns]\n"
     ]
    }
   ],
   "source": [
    "correlation_matrix=data.corr()\n",
    "print(correlation_matrix)"
   ]
  },
  {
   "cell_type": "code",
   "execution_count": 18,
   "metadata": {},
   "outputs": [
    {
     "name": "stdout",
     "output_type": "stream",
     "text": [
      "                 age       sex        cp    trestbps         chol       fbs  \\\n",
      "age        81.697419 -0.411995  0.903744   45.328678    97.787489  0.381614   \n",
      "sex        -0.411995  0.218368  0.004524   -0.530107    -4.836994  0.007967   \n",
      "cp          0.903744  0.004524  0.921841   -0.609632     3.595141 -0.013671   \n",
      "trestbps   45.328678 -0.530107 -0.609632  309.751120   118.573339  1.099207   \n",
      "chol       97.787489 -4.836994  3.595141  118.573339  2680.849190  0.181496   \n",
      "...              ...       ...       ...         ...          ...       ...   \n",
      "ca_?_True  -0.088595  0.004240 -0.002098    0.020665    -0.403219  0.001344   \n",
      "thal_3     -0.582333 -0.088934 -0.126811   -1.200337     0.075995 -0.015409   \n",
      "thal_6      0.132778  0.015769  0.010426    0.313193    -1.173759  0.007704   \n",
      "thal_7      0.462396  0.074356  0.114124    0.911580     1.340765  0.005377   \n",
      "thal_?     -0.012841 -0.001191  0.002262   -0.024436    -0.243000  0.002328   \n",
      "\n",
      "            restecg     exang   oldpeak     slope  ...  ca_2_False  ca_2_True  \\\n",
      "age        1.338797  0.389220  2.138850  0.901034  ...   -0.673245   0.673245   \n",
      "sex        0.010065  0.032096  0.055436  0.010808  ...    0.002765  -0.002765   \n",
      "cp         0.064488  0.173235  0.225493  0.089961  ...   -0.039670   0.039670   \n",
      "trestbps   2.566455  0.535473  3.865638  1.273053  ...   -0.505923   0.505923   \n",
      "chol       8.811521  1.491345  2.799282 -0.129598  ...   -0.975707   0.975707   \n",
      "...             ...       ...       ...       ...  ...         ...        ...   \n",
      "ca_?_True -0.006491 -0.001016 -0.012114 -0.001333  ...    0.001661  -0.001661   \n",
      "thal_3    -0.014425 -0.076946 -0.196272 -0.091754  ...    0.022578  -0.022578   \n",
      "thal_6     0.010524  0.007016  0.028765  0.027113  ...   -0.005770   0.005770   \n",
      "thal_7     0.003836  0.068782  0.171081  0.065307  ...   -0.017638   0.017638   \n",
      "thal_?     0.000066  0.001147 -0.003574 -0.000667  ...    0.000831  -0.000831   \n",
      "\n",
      "           ca_3_False  ca_3_True  ca_?_False  ca_?_True    thal_3    thal_6  \\\n",
      "age         -0.361659   0.361659    0.088595  -0.088595 -0.582333  0.132778   \n",
      "sex         -0.007956   0.007956   -0.004240   0.004240 -0.088934  0.015769   \n",
      "cp          -0.032555   0.032555    0.002098  -0.002098 -0.126811  0.010426   \n",
      "trestbps    -0.345048   0.345048   -0.020665   0.020665 -1.200337  0.313193   \n",
      "chol        -1.242181   1.242181    0.403219  -0.403219  0.075995 -1.173759   \n",
      "...               ...        ...         ...        ...       ...       ...   \n",
      "ca_?_True    0.000874  -0.000874   -0.013070   0.013070 -0.000634 -0.000787   \n",
      "thal_3       0.016414  -0.016414    0.000634  -0.000634  0.248530 -0.032654   \n",
      "thal_6      -0.002688   0.002688    0.000787  -0.000787 -0.032654  0.056062   \n",
      "thal_7      -0.014163   0.014163   -0.001508   0.001508 -0.212248 -0.023015   \n",
      "thal_?       0.000437  -0.000437    0.000087  -0.000087 -0.003628 -0.000393   \n",
      "\n",
      "             thal_7    thal_?  \n",
      "age        0.462396 -0.012841  \n",
      "sex        0.074356 -0.001191  \n",
      "cp         0.114124  0.002262  \n",
      "trestbps   0.911580 -0.024436  \n",
      "chol       1.340765 -0.243000  \n",
      "...             ...       ...  \n",
      "ca_?_True  0.001508 -0.000087  \n",
      "thal_3    -0.212248 -0.003628  \n",
      "thal_6    -0.023015 -0.000393  \n",
      "thal_7     0.237820 -0.002557  \n",
      "thal_?    -0.002557  0.006579  \n",
      "\n",
      "[116 rows x 116 columns]\n"
     ]
    }
   ],
   "source": [
    "covariance_matrix=data.cov()\n",
    "print(covariance_matrix)"
   ]
  },
  {
   "cell_type": "code",
   "execution_count": 20,
   "metadata": {},
   "outputs": [
    {
     "name": "stdout",
     "output_type": "stream",
     "text": [
      "thal_3        0.505998\n",
      "oldpeak       0.504092\n",
      "thal_7        0.466119\n",
      "ca_0_False    0.463346\n",
      "ca_0_True     0.463346\n",
      "Name: num, dtype: float64\n"
     ]
    }
   ],
   "source": [
    "correlation_with_target=correlation_matrix['num'].abs().sort_values(ascending=False)\n",
    "top_5_attributes=correlation_with_target[1:6]\n",
    "print(top_5_attributes)"
   ]
  }
 ],
 "metadata": {
  "kernelspec": {
   "display_name": "Python 3",
   "language": "python",
   "name": "python3"
  },
  "language_info": {
   "codemirror_mode": {
    "name": "ipython",
    "version": 3
   },
   "file_extension": ".py",
   "mimetype": "text/x-python",
   "name": "python",
   "nbconvert_exporter": "python",
   "pygments_lexer": "ipython3",
   "version": "3.12.5"
  }
 },
 "nbformat": 4,
 "nbformat_minor": 2
}
